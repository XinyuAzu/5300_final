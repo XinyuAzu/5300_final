{
 "cells": [
  {
   "cell_type": "markdown",
   "metadata": {},
   "source": [
    "# Triple Pendulum\n",
    "\n",
    "Due to the complexity of triple pendulum without small angle approximation, I have to choose a different approach to attack this problem instead of using Professor Furnstahl's code. I used `sympy` to solve symbolic result fisrt then plug in initial conditions to simulate. \n",
    "\n",
    "While the coding is different, the physics is all the same: Lagrange's method and Euler-Lagrange equation.\n",
    "\n",
    "**I used a notebook from GitHub that is potentially useful and used as the template to do this problem.**\n",
    "https://github.com/lukepolson/youtube_channel/blob/main/Python%20Metaphysics%20Series/vid7.ipynb"
   ]
  },
  {
   "cell_type": "code",
   "execution_count": 1,
   "metadata": {},
   "outputs": [],
   "source": [
    "import numpy as np\n",
    "import sympy as smp\n",
    "from scipy.integrate import odeint\n",
    "import matplotlib.pyplot as plt\n",
    "from matplotlib import animation\n",
    "from matplotlib.animation import PillowWriter"
   ]
  },
  {
   "cell_type": "markdown",
   "metadata": {},
   "source": [
    "Define all necessary variables:\n",
    "\n",
    "* Time $t$\n",
    "* Mass of pendulums $m$\n",
    "* Gravitational acceleration $g$\n",
    "* Spring constants $k$\n",
    "\n",
    "Then define the 6 free variables $\\theta_1$, $r_1$, $\\theta_2$, $r_2$, $\\theta_3$, $r_3$\n",
    "\n",
    "1. Make them functions of time\n",
    "2. Define first derivatives\n",
    "3. Define second derivatives"
   ]
  },
  {
   "cell_type": "code",
   "execution_count": 2,
   "metadata": {},
   "outputs": [],
   "source": [
    "t, m, g, k = smp.symbols('t m g k')"
   ]
  },
  {
   "cell_type": "code",
   "execution_count": 4,
   "metadata": {},
   "outputs": [],
   "source": [
    "the1, the2, the3, r1, r2, r3 = smp.symbols(r'\\theta_1, \\theta_2, \\theta_3, r_1, r_2, r_3', cls=smp.Function)\n",
    "\n",
    "# theta1\n",
    "the1 = the1(t)\n",
    "the1_d = smp.diff(the1, t)\n",
    "the1_dd = smp.diff(the1_d, t)\n",
    "\n",
    "# theta2\n",
    "the2 = the2(t)\n",
    "the2_d = smp.diff(the2, t)\n",
    "the2_dd = smp.diff(smp.diff(the2, t), t)\n",
    "\n",
    "# theta3\n",
    "the3 = the3(t)\n",
    "the3_d = smp.diff(the3, t)\n",
    "the3_dd = smp.diff(smp.diff(the3, t), t)\n",
    "\n",
    "r1 = r1(t)\n",
    "r1_d = smp.diff(r1, t)\n",
    "r1_dd = smp.diff(smp.diff(r1, t), t)\n",
    "\n",
    "r2 = r2(t)\n",
    "r2_d = smp.diff(r2, t)\n",
    "r2_dd = smp.diff(smp.diff(r2, t), t)\n",
    "\n",
    "r3 = r3(t)\n",
    "r3_d = smp.diff(r3, t)\n",
    "r3_dd = smp.diff(smp.diff(r3, t), t)"
   ]
  },
  {
   "cell_type": "markdown",
   "metadata": {},
   "source": [
    "Define cartesian coordinates of each bob\n",
    "\n",
    "* Bob 1: $(x_1, y_1)$\n",
    "* Bob 2: $(x_2, y_2)$\n",
    "* Bob 3: $(x_3, y_3)$\n",
    "\n",
    "Note these are functions of $\\theta_1$, $r_1$, $\\theta_2$, $r_2$, $\\theta_3$, $r_3$"
   ]
  },
  {
   "cell_type": "code",
   "execution_count": 5,
   "metadata": {},
   "outputs": [],
   "source": [
    "x1, y1, x2, y2, x3, y3 = smp.symbols('x_1, y_1, x_2, y_2, x_3, y_3', cls=smp.Function)\n",
    "x1= x1(the1, r1)\n",
    "y1= y1(the1, r1)\n",
    "x2= x2(the1, r1, the2, r2)\n",
    "y2= y2(the1, r1, the2, r2)\n",
    "x3= x3(the1, r1, the2, r2, the3, r3)\n",
    "y3= y3(the1, r1, the2, r2, the3, r3)"
   ]
  },
  {
   "cell_type": "code",
   "execution_count": 6,
   "metadata": {},
   "outputs": [],
   "source": [
    "x1 = (1+r1)*smp.cos(the1)\n",
    "y1 = -(1+r1)*smp.sin(the1)\n",
    "x2 = (1+r1)*smp.cos(the1) + (1+r2)*smp.cos(the2)\n",
    "y2 = -(1+r1)*smp.sin(the1)-(1+r2)*smp.sin(the2)\n",
    "x3 = (1+r1)*smp.cos(the1) + (1+r2)*smp.cos(the2) + (1+r3)*smp.cos(the3)\n",
    "y3 = -(1+r1)*smp.sin(the1) - (1+r2)*smp.sin(the2) - (1+r3)*smp.sin(the3)"
   ]
  },
  {
   "cell_type": "markdown",
   "metadata": {},
   "source": [
    "Define the Lagrangian\n",
    "\n",
    "$$ L = T - V $$\n",
    "\n",
    "where \n",
    "\n",
    "* T = $\\frac{1}{2}m(\\dot{x}_1^2 + \\dot{y}_1^2) + \\frac{1}{2}m(\\dot{x}_2^2 + \\dot{y}_2^2) + \\frac{1}{2}m(\\dot{x}_3^2 + \\dot{y}_3^2)$\n",
    "* V = $mgy_1 + mgy_2 + mgy_3$"
   ]
  },
  {
   "cell_type": "code",
   "execution_count": 7,
   "metadata": {},
   "outputs": [],
   "source": [
    "T = 1/2 * m * (smp.diff(x1, t)**2 + smp.diff(y1, t)**2 + \\\n",
    "               smp.diff(x2, t)**2 + smp.diff(y2, t)**2 + \\\n",
    "               smp.diff(x3, t)**2 + smp.diff(y3, t)**2)\n",
    "V = m*g*y1 + m*g*y2 + m*g*y3\n",
    "L = T-V"
   ]
  },
  {
   "cell_type": "markdown",
   "metadata": {},
   "source": [
    "Compute Lagrange's equations\n",
    "\n",
    "$\\frac{dL}{dz} - \\frac{d}{dt} \\frac{dL}{d\\dot{z}} = 0$\n",
    "\n",
    "where $z$ is each of $\\theta_1$, $r_1$, $\\theta_2$, $r_2$\n",
    "\n",
    "**Following codes would take longer than usual to solve since it's complicated...**"
   ]
  },
  {
   "cell_type": "code",
   "execution_count": 8,
   "metadata": {},
   "outputs": [],
   "source": [
    "LE1 = smp.diff(L, the1) - smp.diff(smp.diff(L, the1_d), t)\n",
    "LE1 = LE1.simplify()"
   ]
  },
  {
   "cell_type": "code",
   "execution_count": 9,
   "metadata": {},
   "outputs": [],
   "source": [
    "LE2 = smp.diff(L, the2) - smp.diff(smp.diff(L, the2_d), t)\n",
    "LE2 = LE2.simplify()"
   ]
  },
  {
   "cell_type": "code",
   "execution_count": 10,
   "metadata": {},
   "outputs": [],
   "source": [
    "LE3 = smp.diff(L, the3) - smp.diff(smp.diff(L, the3_d), t)\n",
    "LE3 = LE3.simplify()"
   ]
  },
  {
   "cell_type": "code",
   "execution_count": 11,
   "metadata": {},
   "outputs": [],
   "source": [
    "LE4 = smp.diff(L, r1) - smp.diff(smp.diff(L, r1_d), t)\n",
    "LE4 = LE4.simplify()"
   ]
  },
  {
   "cell_type": "code",
   "execution_count": 12,
   "metadata": {},
   "outputs": [],
   "source": [
    "LE5 = smp.diff(L, r2) - smp.diff(smp.diff(L, r2_d), t)\n",
    "LE5 = LE5.simplify()"
   ]
  },
  {
   "cell_type": "code",
   "execution_count": 13,
   "metadata": {},
   "outputs": [],
   "source": [
    "LE6 = smp.diff(L, r3) - smp.diff(smp.diff(L, r3_d), t)\n",
    "LE6 = LE6.simplify()"
   ]
  },
  {
   "cell_type": "code",
   "execution_count": 14,
   "metadata": {},
   "outputs": [
    {
     "data": {
      "text/latex": [
       "$\\displaystyle m \\left(3.0 g \\operatorname{r_{1}}{\\left(t \\right)} \\cos{\\left(\\theta_{1}{\\left(t \\right)} \\right)} + 3.0 g \\cos{\\left(\\theta_{1}{\\left(t \\right)} \\right)} - 3.0 \\operatorname{r_{1}}^{2}{\\left(t \\right)} \\frac{d^{2}}{d t^{2}} \\theta_{1}{\\left(t \\right)} - 2.0 \\operatorname{r_{1}}{\\left(t \\right)} \\operatorname{r_{2}}{\\left(t \\right)} \\sin{\\left(\\theta_{1}{\\left(t \\right)} - \\theta_{2}{\\left(t \\right)} \\right)} \\left(\\frac{d}{d t} \\theta_{2}{\\left(t \\right)}\\right)^{2} - 2.0 \\operatorname{r_{1}}{\\left(t \\right)} \\operatorname{r_{2}}{\\left(t \\right)} \\cos{\\left(\\theta_{1}{\\left(t \\right)} - \\theta_{2}{\\left(t \\right)} \\right)} \\frac{d^{2}}{d t^{2}} \\theta_{2}{\\left(t \\right)} - 1.0 \\operatorname{r_{1}}{\\left(t \\right)} \\operatorname{r_{3}}{\\left(t \\right)} \\sin{\\left(\\theta_{1}{\\left(t \\right)} - \\theta_{3}{\\left(t \\right)} \\right)} \\left(\\frac{d}{d t} \\theta_{3}{\\left(t \\right)}\\right)^{2} - 1.0 \\operatorname{r_{1}}{\\left(t \\right)} \\operatorname{r_{3}}{\\left(t \\right)} \\cos{\\left(\\theta_{1}{\\left(t \\right)} - \\theta_{3}{\\left(t \\right)} \\right)} \\frac{d^{2}}{d t^{2}} \\theta_{3}{\\left(t \\right)} - 2.0 \\operatorname{r_{1}}{\\left(t \\right)} \\sin{\\left(\\theta_{1}{\\left(t \\right)} - \\theta_{2}{\\left(t \\right)} \\right)} \\left(\\frac{d}{d t} \\theta_{2}{\\left(t \\right)}\\right)^{2} + 2.0 \\operatorname{r_{1}}{\\left(t \\right)} \\sin{\\left(\\theta_{1}{\\left(t \\right)} - \\theta_{2}{\\left(t \\right)} \\right)} \\frac{d^{2}}{d t^{2}} \\operatorname{r_{2}}{\\left(t \\right)} - 1.0 \\operatorname{r_{1}}{\\left(t \\right)} \\sin{\\left(\\theta_{1}{\\left(t \\right)} - \\theta_{3}{\\left(t \\right)} \\right)} \\left(\\frac{d}{d t} \\theta_{3}{\\left(t \\right)}\\right)^{2} + 1.0 \\operatorname{r_{1}}{\\left(t \\right)} \\sin{\\left(\\theta_{1}{\\left(t \\right)} - \\theta_{3}{\\left(t \\right)} \\right)} \\frac{d^{2}}{d t^{2}} \\operatorname{r_{3}}{\\left(t \\right)} - 4.0 \\operatorname{r_{1}}{\\left(t \\right)} \\cos{\\left(\\theta_{1}{\\left(t \\right)} - \\theta_{2}{\\left(t \\right)} \\right)} \\frac{d}{d t} \\theta_{2}{\\left(t \\right)} \\frac{d}{d t} \\operatorname{r_{2}}{\\left(t \\right)} - 2.0 \\operatorname{r_{1}}{\\left(t \\right)} \\cos{\\left(\\theta_{1}{\\left(t \\right)} - \\theta_{2}{\\left(t \\right)} \\right)} \\frac{d^{2}}{d t^{2}} \\theta_{2}{\\left(t \\right)} - 2.0 \\operatorname{r_{1}}{\\left(t \\right)} \\cos{\\left(\\theta_{1}{\\left(t \\right)} - \\theta_{3}{\\left(t \\right)} \\right)} \\frac{d}{d t} \\theta_{3}{\\left(t \\right)} \\frac{d}{d t} \\operatorname{r_{3}}{\\left(t \\right)} - 1.0 \\operatorname{r_{1}}{\\left(t \\right)} \\cos{\\left(\\theta_{1}{\\left(t \\right)} - \\theta_{3}{\\left(t \\right)} \\right)} \\frac{d^{2}}{d t^{2}} \\theta_{3}{\\left(t \\right)} - 6.0 \\operatorname{r_{1}}{\\left(t \\right)} \\frac{d}{d t} \\theta_{1}{\\left(t \\right)} \\frac{d}{d t} \\operatorname{r_{1}}{\\left(t \\right)} - 6.0 \\operatorname{r_{1}}{\\left(t \\right)} \\frac{d^{2}}{d t^{2}} \\theta_{1}{\\left(t \\right)} - 2.0 \\operatorname{r_{2}}{\\left(t \\right)} \\sin{\\left(\\theta_{1}{\\left(t \\right)} - \\theta_{2}{\\left(t \\right)} \\right)} \\left(\\frac{d}{d t} \\theta_{2}{\\left(t \\right)}\\right)^{2} - 2.0 \\operatorname{r_{2}}{\\left(t \\right)} \\cos{\\left(\\theta_{1}{\\left(t \\right)} - \\theta_{2}{\\left(t \\right)} \\right)} \\frac{d^{2}}{d t^{2}} \\theta_{2}{\\left(t \\right)} - 1.0 \\operatorname{r_{3}}{\\left(t \\right)} \\sin{\\left(\\theta_{1}{\\left(t \\right)} - \\theta_{3}{\\left(t \\right)} \\right)} \\left(\\frac{d}{d t} \\theta_{3}{\\left(t \\right)}\\right)^{2} - 1.0 \\operatorname{r_{3}}{\\left(t \\right)} \\cos{\\left(\\theta_{1}{\\left(t \\right)} - \\theta_{3}{\\left(t \\right)} \\right)} \\frac{d^{2}}{d t^{2}} \\theta_{3}{\\left(t \\right)} - 2.0 \\sin{\\left(\\theta_{1}{\\left(t \\right)} - \\theta_{2}{\\left(t \\right)} \\right)} \\left(\\frac{d}{d t} \\theta_{2}{\\left(t \\right)}\\right)^{2} + 2.0 \\sin{\\left(\\theta_{1}{\\left(t \\right)} - \\theta_{2}{\\left(t \\right)} \\right)} \\frac{d^{2}}{d t^{2}} \\operatorname{r_{2}}{\\left(t \\right)} - 1.0 \\sin{\\left(\\theta_{1}{\\left(t \\right)} - \\theta_{3}{\\left(t \\right)} \\right)} \\left(\\frac{d}{d t} \\theta_{3}{\\left(t \\right)}\\right)^{2} + 1.0 \\sin{\\left(\\theta_{1}{\\left(t \\right)} - \\theta_{3}{\\left(t \\right)} \\right)} \\frac{d^{2}}{d t^{2}} \\operatorname{r_{3}}{\\left(t \\right)} - 4.0 \\cos{\\left(\\theta_{1}{\\left(t \\right)} - \\theta_{2}{\\left(t \\right)} \\right)} \\frac{d}{d t} \\theta_{2}{\\left(t \\right)} \\frac{d}{d t} \\operatorname{r_{2}}{\\left(t \\right)} - 2.0 \\cos{\\left(\\theta_{1}{\\left(t \\right)} - \\theta_{2}{\\left(t \\right)} \\right)} \\frac{d^{2}}{d t^{2}} \\theta_{2}{\\left(t \\right)} - 2.0 \\cos{\\left(\\theta_{1}{\\left(t \\right)} - \\theta_{3}{\\left(t \\right)} \\right)} \\frac{d}{d t} \\theta_{3}{\\left(t \\right)} \\frac{d}{d t} \\operatorname{r_{3}}{\\left(t \\right)} - 1.0 \\cos{\\left(\\theta_{1}{\\left(t \\right)} - \\theta_{3}{\\left(t \\right)} \\right)} \\frac{d^{2}}{d t^{2}} \\theta_{3}{\\left(t \\right)} - 6.0 \\frac{d}{d t} \\theta_{1}{\\left(t \\right)} \\frac{d}{d t} \\operatorname{r_{1}}{\\left(t \\right)} - 3.0 \\frac{d^{2}}{d t^{2}} \\theta_{1}{\\left(t \\right)}\\right)$"
      ],
      "text/plain": [
       "m*(3.0*g*r_1(t)*cos(\\theta_1(t)) + 3.0*g*cos(\\theta_1(t)) - 3.0*r_1(t)**2*Derivative(\\theta_1(t), (t, 2)) - 2.0*r_1(t)*r_2(t)*sin(\\theta_1(t) - \\theta_2(t))*Derivative(\\theta_2(t), t)**2 - 2.0*r_1(t)*r_2(t)*cos(\\theta_1(t) - \\theta_2(t))*Derivative(\\theta_2(t), (t, 2)) - 1.0*r_1(t)*r_3(t)*sin(\\theta_1(t) - \\theta_3(t))*Derivative(\\theta_3(t), t)**2 - 1.0*r_1(t)*r_3(t)*cos(\\theta_1(t) - \\theta_3(t))*Derivative(\\theta_3(t), (t, 2)) - 2.0*r_1(t)*sin(\\theta_1(t) - \\theta_2(t))*Derivative(\\theta_2(t), t)**2 + 2.0*r_1(t)*sin(\\theta_1(t) - \\theta_2(t))*Derivative(r_2(t), (t, 2)) - 1.0*r_1(t)*sin(\\theta_1(t) - \\theta_3(t))*Derivative(\\theta_3(t), t)**2 + 1.0*r_1(t)*sin(\\theta_1(t) - \\theta_3(t))*Derivative(r_3(t), (t, 2)) - 4.0*r_1(t)*cos(\\theta_1(t) - \\theta_2(t))*Derivative(\\theta_2(t), t)*Derivative(r_2(t), t) - 2.0*r_1(t)*cos(\\theta_1(t) - \\theta_2(t))*Derivative(\\theta_2(t), (t, 2)) - 2.0*r_1(t)*cos(\\theta_1(t) - \\theta_3(t))*Derivative(\\theta_3(t), t)*Derivative(r_3(t), t) - 1.0*r_1(t)*cos(\\theta_1(t) - \\theta_3(t))*Derivative(\\theta_3(t), (t, 2)) - 6.0*r_1(t)*Derivative(\\theta_1(t), t)*Derivative(r_1(t), t) - 6.0*r_1(t)*Derivative(\\theta_1(t), (t, 2)) - 2.0*r_2(t)*sin(\\theta_1(t) - \\theta_2(t))*Derivative(\\theta_2(t), t)**2 - 2.0*r_2(t)*cos(\\theta_1(t) - \\theta_2(t))*Derivative(\\theta_2(t), (t, 2)) - 1.0*r_3(t)*sin(\\theta_1(t) - \\theta_3(t))*Derivative(\\theta_3(t), t)**2 - 1.0*r_3(t)*cos(\\theta_1(t) - \\theta_3(t))*Derivative(\\theta_3(t), (t, 2)) - 2.0*sin(\\theta_1(t) - \\theta_2(t))*Derivative(\\theta_2(t), t)**2 + 2.0*sin(\\theta_1(t) - \\theta_2(t))*Derivative(r_2(t), (t, 2)) - 1.0*sin(\\theta_1(t) - \\theta_3(t))*Derivative(\\theta_3(t), t)**2 + 1.0*sin(\\theta_1(t) - \\theta_3(t))*Derivative(r_3(t), (t, 2)) - 4.0*cos(\\theta_1(t) - \\theta_2(t))*Derivative(\\theta_2(t), t)*Derivative(r_2(t), t) - 2.0*cos(\\theta_1(t) - \\theta_2(t))*Derivative(\\theta_2(t), (t, 2)) - 2.0*cos(\\theta_1(t) - \\theta_3(t))*Derivative(\\theta_3(t), t)*Derivative(r_3(t), t) - 1.0*cos(\\theta_1(t) - \\theta_3(t))*Derivative(\\theta_3(t), (t, 2)) - 6.0*Derivative(\\theta_1(t), t)*Derivative(r_1(t), t) - 3.0*Derivative(\\theta_1(t), (t, 2)))"
      ]
     },
     "execution_count": 14,
     "metadata": {},
     "output_type": "execute_result"
    }
   ],
   "source": [
    "LE1"
   ]
  },
  {
   "cell_type": "markdown",
   "metadata": {},
   "source": [
    "If we solve for $d^2 z / d t^2$ where $z$ is each of $\\theta_1$, $r_1$, $\\theta_2$, $r_2$ then we can get two equation for each free variable. Defining $v_z$ as $dz/dt$ we get\n",
    "\n",
    "* $dz/dt = v_z$\n",
    "* $dv_z/dt = \\text{whatever we solved for}$\n",
    "\n",
    "This turns our system of second order ODES into systems 1D differential equations.\n",
    "\n",
    "**Example** $\\frac{d^2 y}{dt^2} + 2\\frac{dy}{dt} + y + 3 = 0$ (define $v = dy/dt$) gets turned into the system of 2 first order ODE's (i) $dy/dt = v$ and  (ii) $dv/dt =  - 3 - y - 2v$\n",
    "\n",
    "Specifically, define \n",
    "\n",
    "* $\\omega_1 \\equiv d\\theta_1/dt$\n",
    "* $\\omega_2 \\equiv d\\theta_2/dt$\n",
    "* $\\omega_3 \\equiv d\\theta_3/dt$\n",
    "* $v_1 \\equiv dr_1/dt$\n",
    "* $v_2 \\equiv dr_2/dt$\n",
    "* $v_3 \\equiv dr_3/dt$"
   ]
  },
  {
   "cell_type": "code",
   "execution_count": null,
   "metadata": {},
   "outputs": [],
   "source": [
    "sols = smp.solve([LE1, LE2, LE3, LE4, LE5, LE6], (the1_dd, the2_dd, the3_dd, r1_dd, r2_dd, r3_dd),\n",
    "                simplify=False, rational=False)"
   ]
  },
  {
   "cell_type": "code",
   "execution_count": null,
   "metadata": {},
   "outputs": [],
   "source": [
    "sols[the1_dd]"
   ]
  },
  {
   "cell_type": "markdown",
   "metadata": {},
   "source": [
    "Create numpy functions that we can use with numerical methods"
   ]
  },
  {
   "cell_type": "code",
   "execution_count": null,
   "metadata": {},
   "outputs": [],
   "source": [
    "dw1dt_f = smp.lambdify((m, g, the1, the2, the3, r1, r2, r3, the1_d, the2_d, the3_d, r1_d, r2_d, r3_d), sols[the1_dd])\n",
    "dthe1dt_f = smp.lambdify(the1_d, the1_d)\n",
    "\n",
    "dw2dt_f = smp.lambdify((m, g, the1, the2, the3, r1, r2, r3, the1_d, the2_d, the3_d, r1_d, r2_d, r3_d), sols[the2_dd])\n",
    "dthe2dt_f = smp.lambdify(the2_d, the2_d)\n",
    "\n",
    "dw3dt_f = smp.lambdify((m, g, the1, the2, the3, r1, r2, r3, the1_d, the2_d, the3_d, r1_d, r2_d, r3_d), sols[the3_dd])\n",
    "dthe3dt_f = smp.lambdify(the3_d, the3_d)\n",
    "\n",
    "dv1dt_f = smp.lambdify((m, g, the1, the2, the3, r1, r2, r3, the1_d, the2_d, the3_d, r1_d, r2_d, r3_d), sols[r1_dd])\n",
    "dr1dt_f = smp.lambdify(r1_d, r1_d)\n",
    "\n",
    "dv2dt_f = smp.lambdify((m, g, the1, the2, the3, r1, r2, r3, the1_d, the2_d, the3_d, r1_d, r2_d, r3_d), sols[r2_dd])\n",
    "dr2dt_f = smp.lambdify(r2_d, r2_d)\n",
    "\n",
    "dv3dt_f = smp.lambdify((m, g, the1, the2, the3, r1, r2, r3, the1_d, the2_d, the3_d, r1_d, r2_d, r3_d), sols[r3_dd])\n",
    "dr3dt_f = smp.lambdify(r3_d, r3_d)"
   ]
  },
  {
   "cell_type": "markdown",
   "metadata": {},
   "source": [
    "Define our system of ODES where $S = (\\theta_1, \\omega_1, \\theta_2, \\omega_2, r_1, v_1, r_2, v_2)$"
   ]
  },
  {
   "cell_type": "code",
   "execution_count": null,
   "metadata": {},
   "outputs": [],
   "source": [
    "def dSdt(S, t):\n",
    "    the1, w1, the2, w2, the3, w3, r1, v1, r2, v2, r3, v3 = S\n",
    "    return [\n",
    "        dthe1dt_f(w1),\n",
    "        dw1dt_f(m,g,the1,the2,the3,r1,r2,r3,w1,w2,w3,v1,v2,v3),\n",
    "        dthe2dt_f(w2),\n",
    "        dw2dt_f(m,g,the1,the2,the3,r1,r2,r3,w1,w2,w3,v1,v2,v3),\n",
    "        dthe3dt_f(w3),\n",
    "        dw3dt_f(m,g,the1,the2,the3,r1,r2,r3,w1,w2,w3,v1,v2,v3),\n",
    "        dr1dt_f(v1),\n",
    "        dv1dt_f(m,g,the1,the2,the3,r1,r2,r3,w1,w2,w3,v1,v2,v3),\n",
    "        dr2dt_f(v2),\n",
    "        dv2dt_f(m,g,the1,the2,the3,r1,r2,r3,w1,w2,w3,v1,v2,v3),\n",
    "        dr3dt_f(v3),\n",
    "        dv3dt_f(m,g,the1,the2,the3,r1,r2,r3,w1,w2,w3,v1,v2,v3),\n",
    "    ]"
   ]
  },
  {
   "cell_type": "markdown",
   "metadata": {},
   "source": [
    "Define times, constants, solve ODE"
   ]
  },
  {
   "cell_type": "code",
   "execution_count": null,
   "metadata": {},
   "outputs": [],
   "source": [
    "t = np.linspace(0, 20, 1000)\n",
    "g = 1\n",
    "m=1`\n",
    "ans = odeint(dSdt, y0=[np.pi/2,0,(3/2)*np.pi/2,0,0,5,0,5], t=t)"
   ]
  },
  {
   "cell_type": "markdown",
   "metadata": {},
   "source": [
    "Plot $\\theta_1$ as function of time"
   ]
  },
  {
   "cell_type": "code",
   "execution_count": null,
   "metadata": {},
   "outputs": [],
   "source": [
    "plt.plot(ans.T[0])"
   ]
  },
  {
   "cell_type": "markdown",
   "metadata": {},
   "source": [
    "Get locations of $x_1$, $y_1$, $x_2$, $y_2$ given $\\theta_1$, $r_1$, $\\theta_2$, $r_2$"
   ]
  },
  {
   "cell_type": "code",
   "execution_count": null,
   "metadata": {},
   "outputs": [],
   "source": [
    "def get_x1y1x2y2x3y3(the1, the2, the3, r1, r2, r3):\n",
    "    return ((1+r1)*np.cos(the1),\n",
    "            -(1+r1)*np.sin(the1),\n",
    "            (1+r1)*np.cos(the1) + (1+r2)*np.cos(the2),\n",
    "            -(1+r1)*np.sin(the1)-(1+r2)*np.sin(the2),\n",
    "            (1+r1)*np.cos(the1) + (1+r2)*np.cos(the2) + (1+r3)*np.cos(the3),\n",
    "            -(1+r1)*np.sin(the1)-(1+r2)*np.sin(the2)-(1+r3)*np.sin(the3)\n",
    "    )"
   ]
  },
  {
   "cell_type": "markdown",
   "metadata": {},
   "source": [
    "Get $x$s and $y$s as function of time"
   ]
  },
  {
   "cell_type": "code",
   "execution_count": null,
   "metadata": {},
   "outputs": [],
   "source": [
    "x1, y1, x2, y2, x3, y3 = get_x1y1x2y2x3y3(ans.T[0], ans.T[2], ans.T[4], ans.T[6])"
   ]
  },
  {
   "cell_type": "markdown",
   "metadata": {},
   "source": [
    "Plot ys"
   ]
  },
  {
   "cell_type": "code",
   "execution_count": null,
   "metadata": {},
   "outputs": [],
   "source": [
    "plt.plot(y1)"
   ]
  },
  {
   "cell_type": "markdown",
   "metadata": {},
   "source": [
    "Make animation "
   ]
  },
  {
   "cell_type": "code",
   "execution_count": null,
   "metadata": {},
   "outputs": [],
   "source": [
    "def animate(i):\n",
    "    ln1.set_data([0, x1[i], x2[i]], [0, y1[i], y2[i]])\n",
    "    \n",
    "fig, ax = plt.subplots(1,1, figsize=(8,8))\n",
    "ax.grid()\n",
    "ln1, = plt.plot([], [], 'ro--', lw=3, markersize=8)\n",
    "ax.set_ylim(-10, 10)\n",
    "ax.set_xlim(-10,10)\n",
    "ani = animation.FuncAnimation(fig, animate, frames=1000, interval=50)\n",
    "ani.save('pen.gif',writer='pillow',fps=50)"
   ]
  },
  {
   "cell_type": "code",
   "execution_count": null,
   "metadata": {},
   "outputs": [],
   "source": []
  }
 ],
 "metadata": {
  "kernelspec": {
   "display_name": "Python 3 (ipykernel)",
   "language": "python",
   "name": "python3"
  },
  "language_info": {
   "codemirror_mode": {
    "name": "ipython",
    "version": 3
   },
   "file_extension": ".py",
   "mimetype": "text/x-python",
   "name": "python",
   "nbconvert_exporter": "python",
   "pygments_lexer": "ipython3",
   "version": "3.9.7"
  }
 },
 "nbformat": 4,
 "nbformat_minor": 4
}
